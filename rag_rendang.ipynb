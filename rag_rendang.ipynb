{
  "cells": [
    {
      "cell_type": "code",
      "execution_count": 1,
      "metadata": {
        "colab": {
          "base_uri": "https://localhost:8080/"
        },
        "id": "R09ptgvWdmkn",
        "outputId": "47facd92-5cb0-44b0-d1f4-a31c8dc979ae"
      },
      "outputs": [
        {
          "name": "stdout",
          "output_type": "stream",
          "text": [
            "Requirement already satisfied: langchain in /usr/local/lib/python3.11/dist-packages (0.3.25)\n",
            "Requirement already satisfied: langchain-community in /usr/local/lib/python3.11/dist-packages (0.3.24)\n",
            "Requirement already satisfied: langchain-huggingface in /usr/local/lib/python3.11/dist-packages (0.2.0)\n",
            "Requirement already satisfied: chromadb in /usr/local/lib/python3.11/dist-packages (1.0.12)\n",
            "Requirement already satisfied: pypdf in /usr/local/lib/python3.11/dist-packages (5.6.0)\n",
            "Requirement already satisfied: transformers in /usr/local/lib/python3.11/dist-packages (4.52.2)\n",
            "Requirement already satisfied: torch in /usr/local/lib/python3.11/dist-packages (2.6.0+cu124)\n",
            "Requirement already satisfied: sentence-transformers in /usr/local/lib/python3.11/dist-packages (4.1.0)\n",
            "Requirement already satisfied: wikipedia in /usr/local/lib/python3.11/dist-packages (1.4.0)\n",
            "Requirement already satisfied: bitsandbytes in /usr/local/lib/python3.11/dist-packages (0.46.0)\n",
            "Requirement already satisfied: langchain-core<1.0.0,>=0.3.58 in /usr/local/lib/python3.11/dist-packages (from langchain) (0.3.60)\n",
            "Requirement already satisfied: langchain-text-splitters<1.0.0,>=0.3.8 in /usr/local/lib/python3.11/dist-packages (from langchain) (0.3.8)\n",
            "Requirement already satisfied: langsmith<0.4,>=0.1.17 in /usr/local/lib/python3.11/dist-packages (from langchain) (0.3.42)\n",
            "Requirement already satisfied: pydantic<3.0.0,>=2.7.4 in /usr/local/lib/python3.11/dist-packages (from langchain) (2.11.4)\n",
            "Requirement already satisfied: SQLAlchemy<3,>=1.4 in /usr/local/lib/python3.11/dist-packages (from langchain) (2.0.41)\n",
            "Requirement already satisfied: requests<3,>=2 in /usr/local/lib/python3.11/dist-packages (from langchain) (2.32.3)\n",
            "Requirement already satisfied: PyYAML>=5.3 in /usr/local/lib/python3.11/dist-packages (from langchain) (6.0.2)\n",
            "Requirement already satisfied: aiohttp<4.0.0,>=3.8.3 in /usr/local/lib/python3.11/dist-packages (from langchain-community) (3.11.15)\n",
            "Requirement already satisfied: tenacity!=8.4.0,<10,>=8.1.0 in /usr/local/lib/python3.11/dist-packages (from langchain-community) (9.1.2)\n",
            "Requirement already satisfied: dataclasses-json<0.7,>=0.5.7 in /usr/local/lib/python3.11/dist-packages (from langchain-community) (0.6.7)\n",
            "Requirement already satisfied: pydantic-settings<3.0.0,>=2.4.0 in /usr/local/lib/python3.11/dist-packages (from langchain-community) (2.9.1)\n",
            "Requirement already satisfied: httpx-sse<1.0.0,>=0.4.0 in /usr/local/lib/python3.11/dist-packages (from langchain-community) (0.4.0)\n",
            "Requirement already satisfied: numpy>=1.26.2 in /usr/local/lib/python3.11/dist-packages (from langchain-community) (2.0.2)\n",
            "Requirement already satisfied: tokenizers>=0.19.1 in /usr/local/lib/python3.11/dist-packages (from langchain-huggingface) (0.21.1)\n",
            "Requirement already satisfied: huggingface-hub>=0.30.2 in /usr/local/lib/python3.11/dist-packages (from langchain-huggingface) (0.31.4)\n",
            "Requirement already satisfied: build>=1.0.3 in /usr/local/lib/python3.11/dist-packages (from chromadb) (1.2.2.post1)\n",
            "Requirement already satisfied: fastapi==0.115.9 in /usr/local/lib/python3.11/dist-packages (from chromadb) (0.115.9)\n",
            "Requirement already satisfied: uvicorn>=0.18.3 in /usr/local/lib/python3.11/dist-packages (from uvicorn[standard]>=0.18.3->chromadb) (0.34.3)\n",
            "Requirement already satisfied: posthog>=2.4.0 in /usr/local/lib/python3.11/dist-packages (from chromadb) (4.2.0)\n",
            "Requirement already satisfied: typing-extensions>=4.5.0 in /usr/local/lib/python3.11/dist-packages (from chromadb) (4.13.2)\n",
            "Requirement already satisfied: onnxruntime>=1.14.1 in /usr/local/lib/python3.11/dist-packages (from chromadb) (1.22.0)\n",
            "Requirement already satisfied: opentelemetry-api>=1.2.0 in /usr/local/lib/python3.11/dist-packages (from chromadb) (1.33.1)\n",
            "Requirement already satisfied: opentelemetry-exporter-otlp-proto-grpc>=1.2.0 in /usr/local/lib/python3.11/dist-packages (from chromadb) (1.33.1)\n",
            "Requirement already satisfied: opentelemetry-instrumentation-fastapi>=0.41b0 in /usr/local/lib/python3.11/dist-packages (from chromadb) (0.54b1)\n",
            "Requirement already satisfied: opentelemetry-sdk>=1.2.0 in /usr/local/lib/python3.11/dist-packages (from chromadb) (1.33.1)\n",
            "Requirement already satisfied: pypika>=0.48.9 in /usr/local/lib/python3.11/dist-packages (from chromadb) (0.48.9)\n",
            "Requirement already satisfied: tqdm>=4.65.0 in /usr/local/lib/python3.11/dist-packages (from chromadb) (4.67.1)\n",
            "Requirement already satisfied: overrides>=7.3.1 in /usr/local/lib/python3.11/dist-packages (from chromadb) (7.7.0)\n",
            "Requirement already satisfied: importlib-resources in /usr/local/lib/python3.11/dist-packages (from chromadb) (6.5.2)\n",
            "Requirement already satisfied: grpcio>=1.58.0 in /usr/local/lib/python3.11/dist-packages (from chromadb) (1.71.0)\n",
            "Requirement already satisfied: bcrypt>=4.0.1 in /usr/local/lib/python3.11/dist-packages (from chromadb) (4.3.0)\n",
            "Requirement already satisfied: typer>=0.9.0 in /usr/local/lib/python3.11/dist-packages (from chromadb) (0.15.3)\n",
            "Requirement already satisfied: kubernetes>=28.1.0 in /usr/local/lib/python3.11/dist-packages (from chromadb) (32.0.1)\n",
            "Requirement already satisfied: mmh3>=4.0.1 in /usr/local/lib/python3.11/dist-packages (from chromadb) (5.1.0)\n",
            "Requirement already satisfied: orjson>=3.9.12 in /usr/local/lib/python3.11/dist-packages (from chromadb) (3.10.18)\n",
            "Requirement already satisfied: httpx>=0.27.0 in /usr/local/lib/python3.11/dist-packages (from chromadb) (0.28.1)\n",
            "Requirement already satisfied: rich>=10.11.0 in /usr/local/lib/python3.11/dist-packages (from chromadb) (13.9.4)\n",
            "Requirement already satisfied: jsonschema>=4.19.0 in /usr/local/lib/python3.11/dist-packages (from chromadb) (4.23.0)\n",
            "Requirement already satisfied: starlette<0.46.0,>=0.40.0 in /usr/local/lib/python3.11/dist-packages (from fastapi==0.115.9->chromadb) (0.45.3)\n",
            "Requirement already satisfied: filelock in /usr/local/lib/python3.11/dist-packages (from transformers) (3.18.0)\n",
            "Requirement already satisfied: packaging>=20.0 in /usr/local/lib/python3.11/dist-packages (from transformers) (24.2)\n",
            "Requirement already satisfied: regex!=2019.12.17 in /usr/local/lib/python3.11/dist-packages (from transformers) (2024.11.6)\n",
            "Requirement already satisfied: safetensors>=0.4.3 in /usr/local/lib/python3.11/dist-packages (from transformers) (0.5.3)\n",
            "Requirement already satisfied: networkx in /usr/local/lib/python3.11/dist-packages (from torch) (3.4.2)\n",
            "Requirement already satisfied: jinja2 in /usr/local/lib/python3.11/dist-packages (from torch) (3.1.6)\n",
            "Requirement already satisfied: fsspec in /usr/local/lib/python3.11/dist-packages (from torch) (2025.3.2)\n",
            "Requirement already satisfied: nvidia-cuda-nvrtc-cu12==12.4.127 in /usr/local/lib/python3.11/dist-packages (from torch) (12.4.127)\n",
            "Requirement already satisfied: nvidia-cuda-runtime-cu12==12.4.127 in /usr/local/lib/python3.11/dist-packages (from torch) (12.4.127)\n",
            "Requirement already satisfied: nvidia-cuda-cupti-cu12==12.4.127 in /usr/local/lib/python3.11/dist-packages (from torch) (12.4.127)\n",
            "Requirement already satisfied: nvidia-cudnn-cu12==9.1.0.70 in /usr/local/lib/python3.11/dist-packages (from torch) (9.1.0.70)\n",
            "Requirement already satisfied: nvidia-cublas-cu12==12.4.5.8 in /usr/local/lib/python3.11/dist-packages (from torch) (12.4.5.8)\n",
            "Requirement already satisfied: nvidia-cufft-cu12==11.2.1.3 in /usr/local/lib/python3.11/dist-packages (from torch) (11.2.1.3)\n",
            "Requirement already satisfied: nvidia-curand-cu12==10.3.5.147 in /usr/local/lib/python3.11/dist-packages (from torch) (10.3.5.147)\n",
            "Requirement already satisfied: nvidia-cusolver-cu12==11.6.1.9 in /usr/local/lib/python3.11/dist-packages (from torch) (11.6.1.9)\n",
            "Requirement already satisfied: nvidia-cusparse-cu12==12.3.1.170 in /usr/local/lib/python3.11/dist-packages (from torch) (12.3.1.170)\n",
            "Requirement already satisfied: nvidia-cusparselt-cu12==0.6.2 in /usr/local/lib/python3.11/dist-packages (from torch) (0.6.2)\n",
            "Requirement already satisfied: nvidia-nccl-cu12==2.21.5 in /usr/local/lib/python3.11/dist-packages (from torch) (2.21.5)\n",
            "Requirement already satisfied: nvidia-nvtx-cu12==12.4.127 in /usr/local/lib/python3.11/dist-packages (from torch) (12.4.127)\n",
            "Requirement already satisfied: nvidia-nvjitlink-cu12==12.4.127 in /usr/local/lib/python3.11/dist-packages (from torch) (12.4.127)\n",
            "Requirement already satisfied: triton==3.2.0 in /usr/local/lib/python3.11/dist-packages (from torch) (3.2.0)\n",
            "Requirement already satisfied: sympy==1.13.1 in /usr/local/lib/python3.11/dist-packages (from torch) (1.13.1)\n",
            "Requirement already satisfied: mpmath<1.4,>=1.1.0 in /usr/local/lib/python3.11/dist-packages (from sympy==1.13.1->torch) (1.3.0)\n",
            "Requirement already satisfied: scikit-learn in /usr/local/lib/python3.11/dist-packages (from sentence-transformers) (1.6.1)\n",
            "Requirement already satisfied: scipy in /usr/local/lib/python3.11/dist-packages (from sentence-transformers) (1.15.3)\n",
            "Requirement already satisfied: Pillow in /usr/local/lib/python3.11/dist-packages (from sentence-transformers) (11.2.1)\n",
            "Requirement already satisfied: beautifulsoup4 in /usr/local/lib/python3.11/dist-packages (from wikipedia) (4.13.4)\n",
            "Requirement already satisfied: aiohappyeyeballs>=2.3.0 in /usr/local/lib/python3.11/dist-packages (from aiohttp<4.0.0,>=3.8.3->langchain-community) (2.6.1)\n",
            "Requirement already satisfied: aiosignal>=1.1.2 in /usr/local/lib/python3.11/dist-packages (from aiohttp<4.0.0,>=3.8.3->langchain-community) (1.3.2)\n",
            "Requirement already satisfied: attrs>=17.3.0 in /usr/local/lib/python3.11/dist-packages (from aiohttp<4.0.0,>=3.8.3->langchain-community) (25.3.0)\n",
            "Requirement already satisfied: frozenlist>=1.1.1 in /usr/local/lib/python3.11/dist-packages (from aiohttp<4.0.0,>=3.8.3->langchain-community) (1.6.0)\n",
            "Requirement already satisfied: multidict<7.0,>=4.5 in /usr/local/lib/python3.11/dist-packages (from aiohttp<4.0.0,>=3.8.3->langchain-community) (6.4.4)\n",
            "Requirement already satisfied: propcache>=0.2.0 in /usr/local/lib/python3.11/dist-packages (from aiohttp<4.0.0,>=3.8.3->langchain-community) (0.3.1)\n",
            "Requirement already satisfied: yarl<2.0,>=1.17.0 in /usr/local/lib/python3.11/dist-packages (from aiohttp<4.0.0,>=3.8.3->langchain-community) (1.20.0)\n",
            "Requirement already satisfied: pyproject_hooks in /usr/local/lib/python3.11/dist-packages (from build>=1.0.3->chromadb) (1.2.0)\n",
            "Requirement already satisfied: marshmallow<4.0.0,>=3.18.0 in /usr/local/lib/python3.11/dist-packages (from dataclasses-json<0.7,>=0.5.7->langchain-community) (3.26.1)\n",
            "Requirement already satisfied: typing-inspect<1,>=0.4.0 in /usr/local/lib/python3.11/dist-packages (from dataclasses-json<0.7,>=0.5.7->langchain-community) (0.9.0)\n",
            "Requirement already satisfied: anyio in /usr/local/lib/python3.11/dist-packages (from httpx>=0.27.0->chromadb) (4.9.0)\n",
            "Requirement already satisfied: certifi in /usr/local/lib/python3.11/dist-packages (from httpx>=0.27.0->chromadb) (2025.4.26)\n",
            "Requirement already satisfied: httpcore==1.* in /usr/local/lib/python3.11/dist-packages (from httpx>=0.27.0->chromadb) (1.0.9)\n",
            "Requirement already satisfied: idna in /usr/local/lib/python3.11/dist-packages (from httpx>=0.27.0->chromadb) (3.10)\n",
            "Requirement already satisfied: h11>=0.16 in /usr/local/lib/python3.11/dist-packages (from httpcore==1.*->httpx>=0.27.0->chromadb) (0.16.0)\n",
            "Requirement already satisfied: jsonschema-specifications>=2023.03.6 in /usr/local/lib/python3.11/dist-packages (from jsonschema>=4.19.0->chromadb) (2025.4.1)\n",
            "Requirement already satisfied: referencing>=0.28.4 in /usr/local/lib/python3.11/dist-packages (from jsonschema>=4.19.0->chromadb) (0.36.2)\n",
            "Requirement already satisfied: rpds-py>=0.7.1 in /usr/local/lib/python3.11/dist-packages (from jsonschema>=4.19.0->chromadb) (0.25.1)\n",
            "Requirement already satisfied: six>=1.9.0 in /usr/local/lib/python3.11/dist-packages (from kubernetes>=28.1.0->chromadb) (1.17.0)\n",
            "Requirement already satisfied: python-dateutil>=2.5.3 in /usr/local/lib/python3.11/dist-packages (from kubernetes>=28.1.0->chromadb) (2.9.0.post0)\n",
            "Requirement already satisfied: google-auth>=1.0.1 in /usr/local/lib/python3.11/dist-packages (from kubernetes>=28.1.0->chromadb) (2.38.0)\n",
            "Requirement already satisfied: websocket-client!=0.40.0,!=0.41.*,!=0.42.*,>=0.32.0 in /usr/local/lib/python3.11/dist-packages (from kubernetes>=28.1.0->chromadb) (1.8.0)\n",
            "Requirement already satisfied: requests-oauthlib in /usr/local/lib/python3.11/dist-packages (from kubernetes>=28.1.0->chromadb) (2.0.0)\n",
            "Requirement already satisfied: oauthlib>=3.2.2 in /usr/local/lib/python3.11/dist-packages (from kubernetes>=28.1.0->chromadb) (3.2.2)\n",
            "Requirement already satisfied: urllib3>=1.24.2 in /usr/local/lib/python3.11/dist-packages (from kubernetes>=28.1.0->chromadb) (2.4.0)\n",
            "Requirement already satisfied: durationpy>=0.7 in /usr/local/lib/python3.11/dist-packages (from kubernetes>=28.1.0->chromadb) (0.10)\n",
            "Requirement already satisfied: jsonpatch<2.0,>=1.33 in /usr/local/lib/python3.11/dist-packages (from langchain-core<1.0.0,>=0.3.58->langchain) (1.33)\n",
            "Requirement already satisfied: requests-toolbelt<2.0.0,>=1.0.0 in /usr/local/lib/python3.11/dist-packages (from langsmith<0.4,>=0.1.17->langchain) (1.0.0)\n",
            "Requirement already satisfied: zstandard<0.24.0,>=0.23.0 in /usr/local/lib/python3.11/dist-packages (from langsmith<0.4,>=0.1.17->langchain) (0.23.0)\n",
            "Requirement already satisfied: coloredlogs in /usr/local/lib/python3.11/dist-packages (from onnxruntime>=1.14.1->chromadb) (15.0.1)\n",
            "Requirement already satisfied: flatbuffers in /usr/local/lib/python3.11/dist-packages (from onnxruntime>=1.14.1->chromadb) (25.2.10)\n",
            "Requirement already satisfied: protobuf in /usr/local/lib/python3.11/dist-packages (from onnxruntime>=1.14.1->chromadb) (5.29.4)\n",
            "Requirement already satisfied: deprecated>=1.2.6 in /usr/local/lib/python3.11/dist-packages (from opentelemetry-api>=1.2.0->chromadb) (1.2.18)\n",
            "Requirement already satisfied: importlib-metadata<8.7.0,>=6.0 in /usr/local/lib/python3.11/dist-packages (from opentelemetry-api>=1.2.0->chromadb) (8.6.1)\n",
            "Requirement already satisfied: googleapis-common-protos~=1.52 in /usr/local/lib/python3.11/dist-packages (from opentelemetry-exporter-otlp-proto-grpc>=1.2.0->chromadb) (1.70.0)\n",
            "Requirement already satisfied: opentelemetry-exporter-otlp-proto-common==1.33.1 in /usr/local/lib/python3.11/dist-packages (from opentelemetry-exporter-otlp-proto-grpc>=1.2.0->chromadb) (1.33.1)\n",
            "Requirement already satisfied: opentelemetry-proto==1.33.1 in /usr/local/lib/python3.11/dist-packages (from opentelemetry-exporter-otlp-proto-grpc>=1.2.0->chromadb) (1.33.1)\n",
            "Requirement already satisfied: opentelemetry-instrumentation-asgi==0.54b1 in /usr/local/lib/python3.11/dist-packages (from opentelemetry-instrumentation-fastapi>=0.41b0->chromadb) (0.54b1)\n",
            "Requirement already satisfied: opentelemetry-instrumentation==0.54b1 in /usr/local/lib/python3.11/dist-packages (from opentelemetry-instrumentation-fastapi>=0.41b0->chromadb) (0.54b1)\n",
            "Requirement already satisfied: opentelemetry-semantic-conventions==0.54b1 in /usr/local/lib/python3.11/dist-packages (from opentelemetry-instrumentation-fastapi>=0.41b0->chromadb) (0.54b1)\n",
            "Requirement already satisfied: opentelemetry-util-http==0.54b1 in /usr/local/lib/python3.11/dist-packages (from opentelemetry-instrumentation-fastapi>=0.41b0->chromadb) (0.54b1)\n",
            "Requirement already satisfied: wrapt<2.0.0,>=1.0.0 in /usr/local/lib/python3.11/dist-packages (from opentelemetry-instrumentation==0.54b1->opentelemetry-instrumentation-fastapi>=0.41b0->chromadb) (1.17.2)\n",
            "Requirement already satisfied: asgiref~=3.0 in /usr/local/lib/python3.11/dist-packages (from opentelemetry-instrumentation-asgi==0.54b1->opentelemetry-instrumentation-fastapi>=0.41b0->chromadb) (3.8.1)\n",
            "Requirement already satisfied: backoff>=1.10.0 in /usr/local/lib/python3.11/dist-packages (from posthog>=2.4.0->chromadb) (2.2.1)\n",
            "Requirement already satisfied: distro>=1.5.0 in /usr/local/lib/python3.11/dist-packages (from posthog>=2.4.0->chromadb) (1.9.0)\n",
            "Requirement already satisfied: annotated-types>=0.6.0 in /usr/local/lib/python3.11/dist-packages (from pydantic<3.0.0,>=2.7.4->langchain) (0.7.0)\n",
            "Requirement already satisfied: pydantic-core==2.33.2 in /usr/local/lib/python3.11/dist-packages (from pydantic<3.0.0,>=2.7.4->langchain) (2.33.2)\n",
            "Requirement already satisfied: typing-inspection>=0.4.0 in /usr/local/lib/python3.11/dist-packages (from pydantic<3.0.0,>=2.7.4->langchain) (0.4.1)\n",
            "Requirement already satisfied: python-dotenv>=0.21.0 in /usr/local/lib/python3.11/dist-packages (from pydantic-settings<3.0.0,>=2.4.0->langchain-community) (1.1.0)\n",
            "Requirement already satisfied: charset-normalizer<4,>=2 in /usr/local/lib/python3.11/dist-packages (from requests<3,>=2->langchain) (3.4.2)\n",
            "Requirement already satisfied: markdown-it-py>=2.2.0 in /usr/local/lib/python3.11/dist-packages (from rich>=10.11.0->chromadb) (3.0.0)\n",
            "Requirement already satisfied: pygments<3.0.0,>=2.13.0 in /usr/local/lib/python3.11/dist-packages (from rich>=10.11.0->chromadb) (2.19.1)\n",
            "Requirement already satisfied: greenlet>=1 in /usr/local/lib/python3.11/dist-packages (from SQLAlchemy<3,>=1.4->langchain) (3.2.2)\n",
            "Requirement already satisfied: click>=8.0.0 in /usr/local/lib/python3.11/dist-packages (from typer>=0.9.0->chromadb) (8.2.1)\n",
            "Requirement already satisfied: shellingham>=1.3.0 in /usr/local/lib/python3.11/dist-packages (from typer>=0.9.0->chromadb) (1.5.4)\n",
            "Requirement already satisfied: httptools>=0.6.3 in /usr/local/lib/python3.11/dist-packages (from uvicorn[standard]>=0.18.3->chromadb) (0.6.4)\n",
            "Requirement already satisfied: uvloop>=0.15.1 in /usr/local/lib/python3.11/dist-packages (from uvicorn[standard]>=0.18.3->chromadb) (0.21.0)\n",
            "Requirement already satisfied: watchfiles>=0.13 in /usr/local/lib/python3.11/dist-packages (from uvicorn[standard]>=0.18.3->chromadb) (1.0.5)\n",
            "Requirement already satisfied: websockets>=10.4 in /usr/local/lib/python3.11/dist-packages (from uvicorn[standard]>=0.18.3->chromadb) (15.0.1)\n",
            "Requirement already satisfied: soupsieve>1.2 in /usr/local/lib/python3.11/dist-packages (from beautifulsoup4->wikipedia) (2.7)\n",
            "Requirement already satisfied: MarkupSafe>=2.0 in /usr/local/lib/python3.11/dist-packages (from jinja2->torch) (3.0.2)\n",
            "Requirement already satisfied: joblib>=1.2.0 in /usr/local/lib/python3.11/dist-packages (from scikit-learn->sentence-transformers) (1.5.0)\n",
            "Requirement already satisfied: threadpoolctl>=3.1.0 in /usr/local/lib/python3.11/dist-packages (from scikit-learn->sentence-transformers) (3.6.0)\n",
            "Requirement already satisfied: cachetools<6.0,>=2.0.0 in /usr/local/lib/python3.11/dist-packages (from google-auth>=1.0.1->kubernetes>=28.1.0->chromadb) (5.5.2)\n",
            "Requirement already satisfied: pyasn1-modules>=0.2.1 in /usr/local/lib/python3.11/dist-packages (from google-auth>=1.0.1->kubernetes>=28.1.0->chromadb) (0.4.2)\n",
            "Requirement already satisfied: rsa<5,>=3.1.4 in /usr/local/lib/python3.11/dist-packages (from google-auth>=1.0.1->kubernetes>=28.1.0->chromadb) (4.9.1)\n",
            "Requirement already satisfied: zipp>=3.20 in /usr/local/lib/python3.11/dist-packages (from importlib-metadata<8.7.0,>=6.0->opentelemetry-api>=1.2.0->chromadb) (3.21.0)\n",
            "Requirement already satisfied: jsonpointer>=1.9 in /usr/local/lib/python3.11/dist-packages (from jsonpatch<2.0,>=1.33->langchain-core<1.0.0,>=0.3.58->langchain) (3.0.0)\n",
            "Requirement already satisfied: mdurl~=0.1 in /usr/local/lib/python3.11/dist-packages (from markdown-it-py>=2.2.0->rich>=10.11.0->chromadb) (0.1.2)\n",
            "Requirement already satisfied: sniffio>=1.1 in /usr/local/lib/python3.11/dist-packages (from anyio->httpx>=0.27.0->chromadb) (1.3.1)\n",
            "Requirement already satisfied: mypy-extensions>=0.3.0 in /usr/local/lib/python3.11/dist-packages (from typing-inspect<1,>=0.4.0->dataclasses-json<0.7,>=0.5.7->langchain-community) (1.1.0)\n",
            "Requirement already satisfied: humanfriendly>=9.1 in /usr/local/lib/python3.11/dist-packages (from coloredlogs->onnxruntime>=1.14.1->chromadb) (10.0)\n",
            "Requirement already satisfied: pyasn1<0.7.0,>=0.6.1 in /usr/local/lib/python3.11/dist-packages (from pyasn1-modules>=0.2.1->google-auth>=1.0.1->kubernetes>=28.1.0->chromadb) (0.6.1)\n"
          ]
        }
      ],
      "source": [
        "!pip install langchain langchain-community langchain-huggingface chromadb pypdf transformers torch sentence-transformers wikipedia bitsandbytes"
      ]
    },
    {
      "cell_type": "markdown",
      "metadata": {
        "id": "IcM7kcpHL7Hu"
      },
      "source": [
        "## Load and process the PDF"
      ]
    },
    {
      "cell_type": "code",
      "execution_count": 2,
      "metadata": {
        "id": "DRIrahECOSP9"
      },
      "outputs": [],
      "source": [
        "from langchain_community.document_loaders import PyPDFLoader\n",
        "\n",
        "pdf_path = \"data/rendang.pdf\"\n",
        "loader = PyPDFLoader(pdf_path)\n",
        "documents = loader.load()"
      ]
    },
    {
      "cell_type": "code",
      "execution_count": 3,
      "metadata": {
        "colab": {
          "base_uri": "https://localhost:8080/"
        },
        "id": "OomfxsgpMMNF",
        "outputId": "38b17f53-b92b-475f-942e-4d379cf3cfe4"
      },
      "outputs": [
        {
          "name": "stdout",
          "output_type": "stream",
          "text": [
            "page_content='Review Article\n",
            "Rendang: The treasure of Minangkabau\n",
            "Muthia Nurmuﬁda, Gervasius H. Wangrimen*, Risty Reinalta, Kevin Leonardi\n",
            "Nutrition and Food Technology Department, Faculty of Life Science, Surya University, Indonesia\n",
            "article info\n",
            "Article history:\n",
            "Received 19 July 2017\n",
            "Received in revised form\n",
            "11 October 2017\n",
            "Accepted 11 October 2017\n",
            "Available online 19 October 2017\n",
            "Keywords:\n",
            "Cuisine\n",
            "Culture\n",
            "History\n",
            "Minangkabau\n",
            "Rendang\n",
            "abstract\n",
            "Rendang is a traditional food originating from West Sumatra and prepared by Minangkabau people.\n",
            "Rendang is commonly made with beef (especially tenderloin) with special sauce containing a high\n",
            "amount of coconut milk. In the past, Minangkabau people preparedrendang in such a way that it has long\n",
            "shelf life and could be stored during long journeys. The long shelf life ofrendang is thought to be\n",
            "contributed by the spices used during the cooking process. Nowadays,rendang is known worldwide, but\n",
            "its history and cultural signiﬁcance are given less attention. In this article, the history and philosophy of\n",
            "rendang as the treasure of Minang people is discussed. To date, it is believed thatrendang originated from\n",
            "India because of its similarity to Indian curry. The long cooking process ofrendang has its own philosophy\n",
            "about patience, wisdom, and sincerity. Proper choice of beef, spice mix, control of heat, cooking duration,\n",
            "and stirring technique affect the taste ofrendang. Traditionally,rendang is served during special occasions\n",
            "and to special people.\n",
            "© 2017 Korea Food Research Institute. Published by Elsevier B.V. This is an open access article under the\n",
            "CC BY-NC-ND license (http://creativecommons.org/licenses/by-nc-nd/4.0/).\n",
            "1. Introduction\n",
            "Indonesia is an archipelago that stretches from Sabang to Mer-\n",
            "auke and covers around 5,193,250 million km2 area. Indonesia has\n",
            "ethnic and cultural diversity in traditional habits, foods, traditional\n",
            "clothes, art, etc. Padang, the capital of West Sumatra, still holds\n",
            "quite prominent traditions. Food items made with basic ingredients\n",
            "such as coconut milk, beef, or buffalo meat are quite typical and\n",
            "common in this area (Fig. 1).\n",
            "In a survey conducted by Cable News Network in 2011 and\n",
            "2017 [1], rendang was voted as the most delicious food in the\n",
            "world based on readers' choice.Rendang is a traditional dish of\n",
            "West Sumatra with generous amounts of different kinds of spices\n",
            "and ingredients including meat and coconut milk. Usually, the\n",
            "Minang people like to eat beef dishes. Rini et al[2] reported that\n",
            "rendang Minang is cooked for 6 to 7 hours at a temperature of\n",
            "80e95\n",
            "/C14C. Spices and herbs that are used to makeMinangkabau\n",
            "rendang are garlic, onion, red chilies, turmeric, ginger, pepper,\n",
            "lemongrass, galangal, star anise, kafﬁr lime leaves, bay leaves,\n",
            "turmeric leaves, and asam kandis (Garcinia xanthochymus). The\n",
            "origin of Rendang could be traced back to the Indian merchants,\n",
            "who brought their food to Indonesia which was adapted by\n",
            "Minang people asgulai. Minang people cooked thisgulai further\n",
            "to preparekalio. The cooking process was then continued until it\n",
            "thickened and became rendang.\n",
            "Minangkabau rendangis characterized by dry texture and strong\n",
            "fragrant aroma due to the slow and long cooking process, which\n",
            "results in dark brownish appearance. Rendang came to West\n",
            "Sumatra in the early second millennium. According to Yoshino\n",
            "[3], in the 1900s, immigrants from Indonesia, especially the Minang\n",
            "people, who took a long journey to Malaysia, introducedrendang\n",
            "there; therefore, nowadaysrendang is quite popular in Malaysia.\n",
            "The word rendang originated from the word merandang or\n",
            "randang, which means“slowly” as it takes a long time to complete\n",
            "the cooking process. Philosophically, rendang is a treasured and\n",
            "honored food. Comparing it with everyday dishes, Andam [4]\n",
            "argued that Minangkabau rendang has the highest hierarchy\n",
            "among the others and is commonly referred to askepalo samba\n",
            "(head of the dishes) in traditional and important events. Originally,\n",
            "the main ingredient ofMinangkabau rendang was beef because of\n",
            "its abundance in West Sumatra. However, people could nowadays\n",
            "ﬁnd rendang with different kinds of meat, including chicken.\n",
            "2. Food and culture\n",
            "Kittler and Kathryn [5] explained that food culture, or more\n",
            "commonly known as foodways, is a food habit that refers to the way\n",
            "* Corresponding author. Villa Tangerang Regency I, Tangerang 15132, Banten,\n",
            "Indonesia.\n",
            "E-mail addresses: muthiamuﬁda@gmail.com (M. Nurmuﬁda), gervasiushw@\n",
            "gmail.com (G.H. Wangrimen), reinaltaristy@gmail.com (R. Reinalta), syaoranli17@\n",
            "gmail.com (K. Leonardi).\n",
            "Contents lists available atScienceDirect\n",
            "Journal of Ethnic Foods\n",
            "journal homepage: http://journalofethnicfoods.net\n",
            "https://doi.org/10.1016/j.jef.2017.10.005\n",
            "2352-6181/© 2017 Korea Food Research Institute. Published by Elsevier B.V. This is an open access article under the CC BY-NC-ND license (http://creativecommons.org/\n",
            "licenses/by-nc-nd/4.0/).\n",
            "J Ethn Foods 4 (2017) 232e235' metadata={'producer': 'Acrobat Distiller 8.1.0 (Windows)', 'creator': 'Elsevier', 'creationdate': '2017-12-19T22:26:14+05:30', 'crossmarkdomains[2]': 'elsevier.com', 'crossmarkmajorversiondate': '2010-04-23', 'subject': 'Journal of Ethnic Foods, 4 (2017) 232-235. doi:10.1016/j.jef.2017.10.005', 'author': 'Muthia Nurmufida', 'elsevierwebpdfspecifications': '6.5', 'crossmarkdomainexclusive': 'true', 'robots': 'noindex', 'moddate': '2017-12-19T22:26:45+05:30', 'doi': '10.1016/j.jef.2017.10.005', 'crossmarkdomains[1]': 'sciencedirect.com', 'title': 'Rendang: The treasure of Minangkabau', 'source': 'data/rendang.pdf', 'total_pages': 4, 'page': 0, 'page_label': '232'}\n"
          ]
        }
      ],
      "source": [
        "print(documents[0])"
      ]
    },
    {
      "cell_type": "markdown",
      "metadata": {
        "id": "LpPMMkxNOcZK"
      },
      "source": [
        "## Split documents into chunks"
      ]
    },
    {
      "cell_type": "code",
      "execution_count": 4,
      "metadata": {
        "id": "aaO3Po5ANjm3"
      },
      "outputs": [],
      "source": [
        "from langchain.text_splitter import RecursiveCharacterTextSplitter\n",
        "\n",
        "text_splitter = RecursiveCharacterTextSplitter(chunk_size=1000, chunk_overlap=200)\n",
        "texts = text_splitter.split_documents(documents)"
      ]
    },
    {
      "cell_type": "markdown",
      "metadata": {
        "id": "NBG2JlPjTMIb"
      },
      "source": [
        "## embedding and ChromaDB"
      ]
    },
    {
      "cell_type": "code",
      "execution_count": 5,
      "metadata": {
        "colab": {
          "base_uri": "https://localhost:8080/"
        },
        "id": "-rre1Bw5OuJt",
        "outputId": "30608b31-f9d6-4941-98bd-1f5f5a6a2f72"
      },
      "outputs": [
        {
          "name": "stderr",
          "output_type": "stream",
          "text": [
            "/usr/local/lib/python3.11/dist-packages/huggingface_hub/utils/_auth.py:94: UserWarning: \n",
            "The secret `HF_TOKEN` does not exist in your Colab secrets.\n",
            "To authenticate with the Hugging Face Hub, create a token in your settings tab (https://huggingface.co/settings/tokens), set it as secret in your Google Colab and restart your session.\n",
            "You will be able to reuse this secret in all of your notebooks.\n",
            "Please note that authentication is recommended but still optional to access public models or datasets.\n",
            "  warnings.warn(\n"
          ]
        }
      ],
      "source": [
        "from langchain_huggingface import HuggingFaceEmbeddings\n",
        "from langchain.vectorstores import Chroma\n",
        "\n",
        "embedding_model = HuggingFaceEmbeddings(model_name=\"sentence-transformers/all-MiniLM-L6-v2\")\n",
        "vectorstore = Chroma.from_documents(documents=texts, embedding=embedding_model, persist_directory=\"./chroma_db\")"
      ]
    },
    {
      "cell_type": "markdown",
      "metadata": {
        "id": "G0Dtv-5LZ6Mb"
      },
      "source": [
        "## Set up LLaMA 3 Hugging face model with quantization"
      ]
    },
    {
      "cell_type": "code",
      "execution_count": null,
      "metadata": {
        "colab": {
          "base_uri": "https://localhost:8080/",
          "height": 67,
          "referenced_widgets": [
            "975042d01a3044d5b57043ac72497f3d",
            "1a00223b95024737a06ef30a47720aa6",
            "42ab9bae409941b9963bc14de81e54fe",
            "3677a63889134b58ae7be5d495e05071",
            "d8dca85ef9cb4f5988cd3d4c6924413e",
            "c9459e70719347de803158d1d39d5949",
            "5c809b5e83eb453ea552d69527f183d7",
            "c559aed036874e089ed3c91b95c6f3b8",
            "76351da675ba41f3ac3466b79503db4a",
            "93b908572308461a86a7d123ad76dc0e",
            "15d1e2e149314f83a6bdb74e1fe4179f"
          ]
        },
        "id": "Tie9hvTiZDok",
        "outputId": "5ec79219-e034-4594-8350-9e1dce0ca263"
      },
      "outputs": [],
      "source": [
        "from transformers import AutoModelForCausalLM, AutoTokenizer, pipeline\n",
        "from langchain.llms import HuggingFacePipeline\n",
        "import torch\n",
        "from transformers import BitsAndBytesConfig\n",
        "\n",
        "model_name = \"glaiveai/Llama-3-8B-RAG-v1\"\n",
        "tokenizer = AutoTokenizer.from_pretrained(model_name)\n",
        "\n",
        "bnb_config = BitsAndBytesConfig(\n",
        "    load_in_4bit=True,\n",
        "    bnb_4bit_quant_type=\"nf4\",\n",
        "    bnb_4bit_compute_dtype=torch.float16,\n",
        "    bnb_4bit_use_double_quant=True\n",
        ")\n",
        "model = AutoModelForCausalLM.from_pretrained(\n",
        "    model_name,\n",
        "    quantization_config=bnb_config,\n",
        "    device_map=\"auto\"\n",
        ")\n",
        "\n",
        "llm_pipeline = pipeline(\n",
        "    \"text-generation\",\n",
        "    model=model,\n",
        "    tokenizer=tokenizer,\n",
        "    max_new_tokens=512,\n",
        "    temperature=0.7,\n",
        "    top_p=0.9,\n",
        "    device_map=\"auto\",\n",
        "    pad_token_id=tokenizer.eos_token_id,\n",
        "    return_full_text=False\n",
        ")\n",
        "llm = HuggingFacePipeline(pipeline=llm_pipeline)"
      ]
    },
    {
      "cell_type": "markdown",
      "metadata": {
        "id": "jme0DgmBbyaq"
      },
      "source": [
        "## Set up Wikipedia tool as another data source"
      ]
    },
    {
      "cell_type": "code",
      "execution_count": 27,
      "metadata": {
        "id": "ByHrc4tLbifC"
      },
      "outputs": [],
      "source": [
        "from langchain_community.tools import WikipediaQueryRun\n",
        "from langchain_community.utilities import WikipediaAPIWrapper\n",
        "\n",
        "wikipedia = WikipediaQueryRun(api_wrapper=WikipediaAPIWrapper())"
      ]
    },
    {
      "cell_type": "markdown",
      "metadata": {
        "id": "6wfwDNODebLd"
      },
      "source": [
        "## Define prompt template and create RAG chain"
      ]
    },
    {
      "cell_type": "code",
      "execution_count": 35,
      "metadata": {
        "id": "2R7RmG8_cRPy"
      },
      "outputs": [],
      "source": [
        "from langchain_core.prompts import PromptTemplate\n",
        "\n",
        "prompt_template = PromptTemplate(\n",
        "    input_variables=[\"pdf_context\", \"wiki_context\", \"query\"],\n",
        "    template=\"\"\"Using the following PDF and Wikipedia contexts, provide a concise answer to the query. Output only the answer, without repeating the query or context.\n",
        "\n",
        "PDF Context:\n",
        "{pdf_context}\n",
        "\n",
        "Wikipedia Context:\n",
        "{wiki_context}\n",
        "\n",
        "Query: {query}\n",
        "\n",
        "Answer:\"\"\"\n",
        ")\n",
        "\n",
        "retriever = vectorstore.as_retriever(search_kwargs={\"k\": 2})\n",
        "\n",
        "def rag_chain(query):\n",
        "    # Retrieve PDF context\n",
        "    pdf_docs = retriever.invoke(query)\n",
        "    pdf_context = \"\\n\".join([doc.page_content for doc in pdf_docs])\n",
        "\n",
        "    # Retrieve Wikipedia context\n",
        "    wiki_context = wikipedia.run(query)\n",
        "\n",
        "    # combine prompt\n",
        "    prompt = prompt_template.format(\n",
        "        pdf_context=pdf_context,\n",
        "        wiki_context=wiki_context,\n",
        "        query=query\n",
        "    )\n",
        "\n",
        "    answer = llm(prompt).strip()\n",
        "\n",
        "    return answer, pdf_docs, wiki_context"
      ]
    },
    {
      "cell_type": "markdown",
      "metadata": {
        "id": "eF1ifGj2zzUL"
      },
      "source": [
        "## First question"
      ]
    },
    {
      "cell_type": "code",
      "execution_count": 41,
      "metadata": {
        "colab": {
          "base_uri": "https://localhost:8080/"
        },
        "id": "h0gHots9z4QL",
        "outputId": "03230b8d-75ad-41ad-9c58-626508c3d2e8"
      },
      "outputs": [
        {
          "name": "stdout",
          "output_type": "stream",
          "text": [
            "Question:\n",
            "What is the most delicious food in the world?\n",
            "\n",
            "================================================================================\n",
            "ANSWER:\n",
            "================================================================================\n",
            "According to a survey conducted by Cable News Network in 2011 and 2017, Rendang, a traditional dish of West Sumatra, was voted as the most delicious food in the world based on readers' choice. Rendang is known for its generous amounts of different kinds of spices and ingredients including meat and coconut milk. It is typically made with basic ingredients such as coconut milk, beef, or buffalo meat, which are common in this area. The dish is a staple in the region, especially in Padang, the capital of West Sumatra.\n"
          ]
        }
      ],
      "source": [
        "query = \"What is the most delicious food in the world?\"\n",
        "answer, pdf_sources, wiki_result = rag_chain(query)\n",
        "print(\"Question:\")\n",
        "print(query)\n",
        "print(\"\\n\" + \"=\"*80)\n",
        "print(\"ANSWER:\")\n",
        "print(\"=\"*80)\n",
        "print(answer)"
      ]
    },
    {
      "cell_type": "code",
      "execution_count": 42,
      "metadata": {
        "colab": {
          "base_uri": "https://localhost:8080/"
        },
        "id": "tp7PoEUx05o4",
        "outputId": "24b56803-df2d-4f78-8761-585ea9c0ddfc"
      },
      "outputs": [
        {
          "name": "stdout",
          "output_type": "stream",
          "text": [
            "\n",
            "================================================================================\n",
            "PDF SOURCES\n",
            "================================================================================\n",
            "PDF Source 1: Gusti Asnan, Professor of History at Andalas University, Padang,\n",
            "West Sumatra, Indonesia; Prof. Dr. Nur Indrawaty Lipoeto, MSc,\n",
            "Ph.D., SpGK, Professor of Nutritional Sciences at Andalas University,\n",
            "Pa...\n",
            "PDF Source 2: © 2017 Korea Food Research Institute. Published by Elsevier B.V. This is an open access article under the\n",
            "CC BY-NC-ND license (http://creativecommons.org/licenses/by-nc-nd/4.0/).\n",
            "1. Introduction\n",
            "Indon...\n",
            "\n",
            "================================================================================\n",
            "WIKIPEDIA RESULT\n",
            "================================================================================\n",
            "Page: Delicious in Dungeon\n",
            "Summary: Delicious in Dungeon (Japanese: ダンジョン飯, Hepburn: Danjon Meshi, lit. \"Dungeon Meal\") is a Japanese manga series written and illustrated by Ryoko Kui. It was serialized in Enterbrain's seinen manga magazine Harta from February 2014 to September 2023, with its chapters collected in 14 tankōbon volumes. The story follows a group of adventurers in a fantasy world who, after failing to defeat a dragon that consumed one of their own, embark on a journey through a dungeon to revive her, surviving by cooking and eating the monsters they encounter along the way.\n",
            "Yen Press has licensed the series in North America. An anime television series adaptation produced by Trigger aired from January to June 2024. A second season has been announced.\n",
            "\n",
            "Page: 3-in-1 (fast food dish)\n",
            "Summary: A 3-in-1, trio or three-in-one, is a fast-food dish consisting of chips, boiled rice (or egg fried rice), and curry sauce served in a single foil tray or plastic container. It became popular in Ireland as a dish from chip shops and Chinese restaurants in the early twenty-first century. It developed a cult-following in the 2010s, and media-outlets debated the merits of it compared to a spice bag which became popular around the same time.\n",
            "Related dishes (four-, five-in one) contain additional ingredients such as chicken balls, or chicken or beef pieces.\n",
            "\n",
            "Page: Fuck, That's Delicious\n",
            "Summary: Fuck, That's Delicious (also known by the censored title F*ck, That's Delicious or simply That's Delicious) is an American television food documentary series starring rapper, and former chef, Action Bronson. The series premiered on March 3, 2016, on Viceland. The series focuses on \"the life and eating habits of rap's greatest bon vivant\".\n",
            "Fuck, That's Delicious follows Action Bronson as he travels around the world, visits various restaurants, and eats everything from street food to fine cuisine. The series regularly features Bronson's friends and fellow rappers, Meyhem Lauren, Alchemist, and Big Body Bes, as well as numerous world-renowned chefs. Four seasons have aired on cable television, with the fourth season airing from May 11, 2020, to July 20, 2020.\n",
            "In March 2021, Bronson announced the fifth season of Fuck, That's Delicious as a fully independent and self-funded production, no longer airing on Viceland, nor having Alchemist, Meyhem and Bes regularly appearing. Unlike the past four seasons, which saw Bronson visiting restaurants, this season explores his current lifestyle of fitness, while also showcasing some of his own cooking, particularly for his friends. The fifth season's first episode premiered on Bronson's YouTube channel on March 17, 2021.\n",
            "\n",
            "\n"
          ]
        }
      ],
      "source": [
        "print(\"\\n\" + \"=\"*80)\n",
        "print(\"PDF SOURCES\")\n",
        "print(\"=\"*80)\n",
        "for i, source in enumerate(pdf_sources, 1):\n",
        "    print(f\"PDF Source {i}: {source.page_content[:200]}...\")\n",
        "print(\"\\n\" + \"=\"*80)\n",
        "print(\"WIKIPEDIA RESULT\")\n",
        "print(\"=\"*80)\n",
        "print(wiki_result)"
      ]
    },
    {
      "cell_type": "markdown",
      "metadata": {
        "id": "R2pFYrh-0j3S"
      },
      "source": [
        "## Second question"
      ]
    },
    {
      "cell_type": "code",
      "execution_count": 40,
      "metadata": {
        "colab": {
          "base_uri": "https://localhost:8080/"
        },
        "id": "mrPVKNFBh2Tf",
        "outputId": "990bdb53-0822-4e92-c25c-92590ea98b6e"
      },
      "outputs": [
        {
          "name": "stdout",
          "output_type": "stream",
          "text": [
            "Question:\n",
            "What is the history of rendang?\n",
            "\n",
            "================================================================================\n",
            "ANSWER:\n",
            "================================================================================\n",
            "Rendang is believed to have originated from a combination of meat and spices prepared in North India known as curry, which was brought to West Sumatra by Indian merchants. This dish was then adapted and further cooked by the Minang people, transforming it into the unique rendang we know today. The dish's development is closely tied to the cultural exchange and interactions between the Indian merchants and the Minang people, reflecting the historical and culinary influences that have shaped it. Rendang is not only a food but also a symbol of cultural identity, reflecting the aesthetic of the food as well as the native cultural identity of the Minang people. The history of rendang also highlights the role of acculturation and the spread of culinary practices through trade and cultural exchange. The essential esthetic of the food, as well as its strong fragrant aroma, are a result of the slow and long cooking process that is unique to rendang. The dish carries strong Indian influences, as many of its key ingredients are staples in Indian cooking, and the introduction of chili peppers by the Portuguese played a key role in its evolution. Rendang has been a part of the cultural heritage of the Minang people, passed down through generations, and its spread is attributed to the migratory tradition of the Minangkabau people who introduced Minang-style rendang to various places they settled. Rendang is a signature dish in Southeast Asian Muslim cuisines and is traditionally served at ceremonial occasions and festive gatherings. It is commonly served at food stalls and restaurants as a side dish with rice, and has been recognized as a national dish by several countries. The history of rendang reflects the unique cultural identity of the Minang people and the broader culinary influences from India and other cultures that have shaped its development over time. The dish has been recognized as a cultural heritage and has been declared one of the national dishes of Indonesia, highlighting its significance in the culinary and cultural history of the region. The essential esthetic of the food, as well as its strong fragrant aroma, are a result of the slow and long cooking process that is unique to rendang. The dish carries strong Indian influences, as many of its key ingredients are staples in Indian cooking, and the introduction of chili peppers by the Portuguese played a key role in its evolution. Rendang has been a part of the cultural heritage of the Minang people, passed down through generations, and its spread is attributed to the migratory tradition of the Minangkabau people who introduced Minang-style rendang\n"
          ]
        }
      ],
      "source": [
        "query = \"What is the history of rendang?\"\n",
        "answer, pdf_sources, wiki_result = rag_chain(query)\n",
        "print(\"Question:\")\n",
        "print(query)\n",
        "print(\"\\n\" + \"=\"*80)\n",
        "print(\"ANSWER:\")\n",
        "print(\"=\"*80)\n",
        "print(answer)"
      ]
    },
    {
      "cell_type": "code",
      "execution_count": 39,
      "metadata": {
        "colab": {
          "base_uri": "https://localhost:8080/"
        },
        "id": "KPts0AUJixWF",
        "outputId": "2bb2f3bd-5630-4053-a38c-96e4af049a0f"
      },
      "outputs": [
        {
          "name": "stdout",
          "output_type": "stream",
          "text": [
            "\n",
            "================================================================================\n",
            "PDF SOURCES\n",
            "================================================================================\n",
            "PDF Source 1: world based on readers' choice.Rendang is a traditional dish of\n",
            "West Sumatra with generous amounts of different kinds of spices\n",
            "and ingredients including meat and coconut milk. Usually, the\n",
            "Minang peo...\n",
            "PDF Source 2: humans utilize food, from how it is selected, obtained, and\n",
            "distributed to who prepares, serves, and eats it. These processes are\n",
            "unique to humankind. Kittler and Kathryn [5] added that the\n",
            "essential ...\n",
            "\n",
            "================================================================================\n",
            "WIKIPEDIA RESULT\n",
            "================================================================================\n",
            "Page: Rendang\n",
            "Summary: Rendang is a fried meat or dry curry made of meat stewed in coconut milk and spices, widely popular across Brunei, Indonesia, Malaysia, Singapore, and the Philippines, where each version is considered local cuisine. It refers to both a cooking method of frying and the dish cooked in that way. The process involves slowly cooking meat in spiced coconut milk in an uncovered pot or pan until the oil separates, allowing the dish to fry in its own sauce, coating the meat in a rich, flavorful glaze.\n",
            "Rooted in Malay and Minangkabau, rendang developed at the cultural crossroads of the Malacca Strait. The dish carries strong Indian influences, as many of its key ingredients are staples in Indian cooking. The introduction of chili peppers by the Portuguese through the Columbian exchange after the capture of Malacca in 1511, played a key role in the evolution of rendang. Malay and Minangkabau traders frequently carried rendang as provisions, allowing the dish to travel naturally through cultural exchange between the Sumatra and Malay Peninsula. In 20th century, the deeply rooted migratory tradition of the Minangkabau people further maintained and contributed to the dish's spread, as they introduced Minang-style rendang to the various places they settled.\n",
            "As a signature dish in Southeast Asian Muslim cuisines—Malay, Minangkabau (as samba randang), and Moro (as riyandang)—rendang is traditionally served at ceremonial occasions and festive gatherings, such as wedding feasts and Hari Raya (Eid al-Fitr and Eid al-Adha). Nowadays, it is commonly served at food stalls and restaurants as a side dish with rice. In 2009, Malaysia recognized rendang as a heritage food. Indonesia granted rendang cultural heritage status in 2013 and officially declared it one of its national dishes in 2018.\n",
            "\n",
            "Page: Island (Huxley novel)\n",
            "Summary: Island  is a 1962 utopian manifesto and novel by English writer Aldous Huxley, the author's final work before his death in 1963. Although it has a plot, the plot largely serves to further conceptual explorations rather than setting up and resolving conventional narrative tension.\n",
            "It is the account of Will Farnaby, a cynical journalist who is shipwrecked on the fictional island of Pala. Island is Huxley's utopian counterpart to his most famous work, the 1932 dystopian novel Brave New World. The ideas that would become Island can be seen in a foreword he wrote in 1946 to a new edition of Brave New World:\n",
            "\n",
            "If I were now to rewrite the book, I would offer the Savage a third alternative. Between the Utopian and primitive horns of his dilemma would lie the possibility of sanity... In this community economics would be decentralist and Henry-Georgian, politics Kropotkinesque and co-operative. Science and technology would be used as though, like the Sabbath, they had been made for man, not (as at present and still more so in the Brave New World) as though man were to be adapted and enslaved to them. Religion would be the conscious and intelligent pursuit of man's Final End, the unitive knowledge of immanent Tao or Logos, the transcendent Godhead or Brahman. And the prevailing philosophy of life would be a kind of Higher Utilitarianism, in which the Greatest Happiness principle would be secondary to the Final End principle—the first question to be asked and answered in every contingency of life being: \"How will this thought or action contribute to, or interfere with, the achievement, by me and the greatest possible number of other individuals, of man's Final End?\"\n",
            "\n",
            "Page: Nasi lemak\n",
            "Summary: Nasi lemak (Jawi: ناسي لمق‎) is a dish originating in Malay cuisine that consists of rice cooked in coconut milk and pandan leaf. It is commonly found in Malaysia, where it is considered the national dish. It is also a native dish in neighbouring areas with significant ethnic Malay populations, such as Singapore and Southern Thailand. In Indonesia, it can be found in parts of Sumatra, especially the Malay regions of Riau, Riau I\n"
          ]
        }
      ],
      "source": [
        "print(\"\\n\" + \"=\"*80)\n",
        "print(\"PDF SOURCES\")\n",
        "print(\"=\"*80)\n",
        "for i, source in enumerate(pdf_sources, 1):\n",
        "    print(f\"PDF Source {i}: {source.page_content[:200]}...\")\n",
        "print(\"\\n\" + \"=\"*80)\n",
        "print(\"WIKIPEDIA RESULT\")\n",
        "print(\"=\"*80)\n",
        "print(wiki_result)"
      ]
    }
  ],
  "metadata": {
    "accelerator": "GPU",
    "colab": {
      "gpuType": "T4",
      "provenance": []
    },
    "kernelspec": {
      "display_name": "Python 3",
      "name": "python3"
    },
    "language_info": {
      "name": "python"
    },
    "widgets": {
      "application/vnd.jupyter.widget-state+json": {
        "15d1e2e149314f83a6bdb74e1fe4179f": {
          "model_module": "@jupyter-widgets/controls",
          "model_module_version": "1.5.0",
          "model_name": "DescriptionStyleModel",
          "state": {
            "_model_module": "@jupyter-widgets/controls",
            "_model_module_version": "1.5.0",
            "_model_name": "DescriptionStyleModel",
            "_view_count": null,
            "_view_module": "@jupyter-widgets/base",
            "_view_module_version": "1.2.0",
            "_view_name": "StyleView",
            "description_width": ""
          }
        },
        "1a00223b95024737a06ef30a47720aa6": {
          "model_module": "@jupyter-widgets/controls",
          "model_module_version": "1.5.0",
          "model_name": "HTMLModel",
          "state": {
            "_dom_classes": [],
            "_model_module": "@jupyter-widgets/controls",
            "_model_module_version": "1.5.0",
            "_model_name": "HTMLModel",
            "_view_count": null,
            "_view_module": "@jupyter-widgets/controls",
            "_view_module_version": "1.5.0",
            "_view_name": "HTMLView",
            "description": "",
            "description_tooltip": null,
            "layout": "IPY_MODEL_c9459e70719347de803158d1d39d5949",
            "placeholder": "​",
            "style": "IPY_MODEL_5c809b5e83eb453ea552d69527f183d7",
            "value": "Loading checkpoint shards: 100%"
          }
        },
        "3677a63889134b58ae7be5d495e05071": {
          "model_module": "@jupyter-widgets/controls",
          "model_module_version": "1.5.0",
          "model_name": "HTMLModel",
          "state": {
            "_dom_classes": [],
            "_model_module": "@jupyter-widgets/controls",
            "_model_module_version": "1.5.0",
            "_model_name": "HTMLModel",
            "_view_count": null,
            "_view_module": "@jupyter-widgets/controls",
            "_view_module_version": "1.5.0",
            "_view_name": "HTMLView",
            "description": "",
            "description_tooltip": null,
            "layout": "IPY_MODEL_93b908572308461a86a7d123ad76dc0e",
            "placeholder": "​",
            "style": "IPY_MODEL_15d1e2e149314f83a6bdb74e1fe4179f",
            "value": " 7/7 [03:27&lt;00:00, 26.89s/it]"
          }
        },
        "42ab9bae409941b9963bc14de81e54fe": {
          "model_module": "@jupyter-widgets/controls",
          "model_module_version": "1.5.0",
          "model_name": "FloatProgressModel",
          "state": {
            "_dom_classes": [],
            "_model_module": "@jupyter-widgets/controls",
            "_model_module_version": "1.5.0",
            "_model_name": "FloatProgressModel",
            "_view_count": null,
            "_view_module": "@jupyter-widgets/controls",
            "_view_module_version": "1.5.0",
            "_view_name": "ProgressView",
            "bar_style": "success",
            "description": "",
            "description_tooltip": null,
            "layout": "IPY_MODEL_c559aed036874e089ed3c91b95c6f3b8",
            "max": 7,
            "min": 0,
            "orientation": "horizontal",
            "style": "IPY_MODEL_76351da675ba41f3ac3466b79503db4a",
            "value": 7
          }
        },
        "5c809b5e83eb453ea552d69527f183d7": {
          "model_module": "@jupyter-widgets/controls",
          "model_module_version": "1.5.0",
          "model_name": "DescriptionStyleModel",
          "state": {
            "_model_module": "@jupyter-widgets/controls",
            "_model_module_version": "1.5.0",
            "_model_name": "DescriptionStyleModel",
            "_view_count": null,
            "_view_module": "@jupyter-widgets/base",
            "_view_module_version": "1.2.0",
            "_view_name": "StyleView",
            "description_width": ""
          }
        },
        "76351da675ba41f3ac3466b79503db4a": {
          "model_module": "@jupyter-widgets/controls",
          "model_module_version": "1.5.0",
          "model_name": "ProgressStyleModel",
          "state": {
            "_model_module": "@jupyter-widgets/controls",
            "_model_module_version": "1.5.0",
            "_model_name": "ProgressStyleModel",
            "_view_count": null,
            "_view_module": "@jupyter-widgets/base",
            "_view_module_version": "1.2.0",
            "_view_name": "StyleView",
            "bar_color": null,
            "description_width": ""
          }
        },
        "93b908572308461a86a7d123ad76dc0e": {
          "model_module": "@jupyter-widgets/base",
          "model_module_version": "1.2.0",
          "model_name": "LayoutModel",
          "state": {
            "_model_module": "@jupyter-widgets/base",
            "_model_module_version": "1.2.0",
            "_model_name": "LayoutModel",
            "_view_count": null,
            "_view_module": "@jupyter-widgets/base",
            "_view_module_version": "1.2.0",
            "_view_name": "LayoutView",
            "align_content": null,
            "align_items": null,
            "align_self": null,
            "border": null,
            "bottom": null,
            "display": null,
            "flex": null,
            "flex_flow": null,
            "grid_area": null,
            "grid_auto_columns": null,
            "grid_auto_flow": null,
            "grid_auto_rows": null,
            "grid_column": null,
            "grid_gap": null,
            "grid_row": null,
            "grid_template_areas": null,
            "grid_template_columns": null,
            "grid_template_rows": null,
            "height": null,
            "justify_content": null,
            "justify_items": null,
            "left": null,
            "margin": null,
            "max_height": null,
            "max_width": null,
            "min_height": null,
            "min_width": null,
            "object_fit": null,
            "object_position": null,
            "order": null,
            "overflow": null,
            "overflow_x": null,
            "overflow_y": null,
            "padding": null,
            "right": null,
            "top": null,
            "visibility": null,
            "width": null
          }
        },
        "975042d01a3044d5b57043ac72497f3d": {
          "model_module": "@jupyter-widgets/controls",
          "model_module_version": "1.5.0",
          "model_name": "HBoxModel",
          "state": {
            "_dom_classes": [],
            "_model_module": "@jupyter-widgets/controls",
            "_model_module_version": "1.5.0",
            "_model_name": "HBoxModel",
            "_view_count": null,
            "_view_module": "@jupyter-widgets/controls",
            "_view_module_version": "1.5.0",
            "_view_name": "HBoxView",
            "box_style": "",
            "children": [
              "IPY_MODEL_1a00223b95024737a06ef30a47720aa6",
              "IPY_MODEL_42ab9bae409941b9963bc14de81e54fe",
              "IPY_MODEL_3677a63889134b58ae7be5d495e05071"
            ],
            "layout": "IPY_MODEL_d8dca85ef9cb4f5988cd3d4c6924413e"
          }
        },
        "c559aed036874e089ed3c91b95c6f3b8": {
          "model_module": "@jupyter-widgets/base",
          "model_module_version": "1.2.0",
          "model_name": "LayoutModel",
          "state": {
            "_model_module": "@jupyter-widgets/base",
            "_model_module_version": "1.2.0",
            "_model_name": "LayoutModel",
            "_view_count": null,
            "_view_module": "@jupyter-widgets/base",
            "_view_module_version": "1.2.0",
            "_view_name": "LayoutView",
            "align_content": null,
            "align_items": null,
            "align_self": null,
            "border": null,
            "bottom": null,
            "display": null,
            "flex": null,
            "flex_flow": null,
            "grid_area": null,
            "grid_auto_columns": null,
            "grid_auto_flow": null,
            "grid_auto_rows": null,
            "grid_column": null,
            "grid_gap": null,
            "grid_row": null,
            "grid_template_areas": null,
            "grid_template_columns": null,
            "grid_template_rows": null,
            "height": null,
            "justify_content": null,
            "justify_items": null,
            "left": null,
            "margin": null,
            "max_height": null,
            "max_width": null,
            "min_height": null,
            "min_width": null,
            "object_fit": null,
            "object_position": null,
            "order": null,
            "overflow": null,
            "overflow_x": null,
            "overflow_y": null,
            "padding": null,
            "right": null,
            "top": null,
            "visibility": null,
            "width": null
          }
        },
        "c9459e70719347de803158d1d39d5949": {
          "model_module": "@jupyter-widgets/base",
          "model_module_version": "1.2.0",
          "model_name": "LayoutModel",
          "state": {
            "_model_module": "@jupyter-widgets/base",
            "_model_module_version": "1.2.0",
            "_model_name": "LayoutModel",
            "_view_count": null,
            "_view_module": "@jupyter-widgets/base",
            "_view_module_version": "1.2.0",
            "_view_name": "LayoutView",
            "align_content": null,
            "align_items": null,
            "align_self": null,
            "border": null,
            "bottom": null,
            "display": null,
            "flex": null,
            "flex_flow": null,
            "grid_area": null,
            "grid_auto_columns": null,
            "grid_auto_flow": null,
            "grid_auto_rows": null,
            "grid_column": null,
            "grid_gap": null,
            "grid_row": null,
            "grid_template_areas": null,
            "grid_template_columns": null,
            "grid_template_rows": null,
            "height": null,
            "justify_content": null,
            "justify_items": null,
            "left": null,
            "margin": null,
            "max_height": null,
            "max_width": null,
            "min_height": null,
            "min_width": null,
            "object_fit": null,
            "object_position": null,
            "order": null,
            "overflow": null,
            "overflow_x": null,
            "overflow_y": null,
            "padding": null,
            "right": null,
            "top": null,
            "visibility": null,
            "width": null
          }
        },
        "d8dca85ef9cb4f5988cd3d4c6924413e": {
          "model_module": "@jupyter-widgets/base",
          "model_module_version": "1.2.0",
          "model_name": "LayoutModel",
          "state": {
            "_model_module": "@jupyter-widgets/base",
            "_model_module_version": "1.2.0",
            "_model_name": "LayoutModel",
            "_view_count": null,
            "_view_module": "@jupyter-widgets/base",
            "_view_module_version": "1.2.0",
            "_view_name": "LayoutView",
            "align_content": null,
            "align_items": null,
            "align_self": null,
            "border": null,
            "bottom": null,
            "display": null,
            "flex": null,
            "flex_flow": null,
            "grid_area": null,
            "grid_auto_columns": null,
            "grid_auto_flow": null,
            "grid_auto_rows": null,
            "grid_column": null,
            "grid_gap": null,
            "grid_row": null,
            "grid_template_areas": null,
            "grid_template_columns": null,
            "grid_template_rows": null,
            "height": null,
            "justify_content": null,
            "justify_items": null,
            "left": null,
            "margin": null,
            "max_height": null,
            "max_width": null,
            "min_height": null,
            "min_width": null,
            "object_fit": null,
            "object_position": null,
            "order": null,
            "overflow": null,
            "overflow_x": null,
            "overflow_y": null,
            "padding": null,
            "right": null,
            "top": null,
            "visibility": null,
            "width": null
          }
        }
      }
    }
  },
  "nbformat": 4,
  "nbformat_minor": 0
}
